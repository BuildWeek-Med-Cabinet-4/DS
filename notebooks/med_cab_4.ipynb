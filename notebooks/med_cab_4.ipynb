{
  "nbformat": 4,
  "nbformat_minor": 0,
  "metadata": {
    "colab": {
      "name": "jaef_canna.ipynb",
      "provenance": [],
      "collapsed_sections": []
    },
    "kernelspec": {
      "name": "python3",
      "display_name": "Python 3"
    }
  },
  "cells": [
    {
      "cell_type": "markdown",
      "metadata": {
        "id": "95KmaZcWbouK",
        "colab_type": "text"
      },
      "source": [
        "# Cannabis recommender for med_cabinet_4\n",
        "## Author: JAE Finger\n",
        "### Updated: 06/20/2020"
      ]
    },
    {
      "cell_type": "markdown",
      "metadata": {
        "id": "cxcmeAd_cFy-",
        "colab_type": "text"
      },
      "source": [
        "## Import packages and necessaries"
      ]
    },
    {
      "cell_type": "code",
      "metadata": {
        "id": "CUMTvjMqauP9",
        "colab_type": "code",
        "colab": {}
      },
      "source": [
        "#Import Packages\n",
        "# Data analysis\n",
        "import pandas as pd\n",
        "import numpy as np\n",
        "import json\n",
        "import urllib.request\n",
        "\n",
        "# Data cleaning\n",
        "import re\n",
        "\n",
        "# Tokenizing words\n",
        "import spacy\n",
        "from sklearn.feature_extraction import text \n",
        "\n",
        "# TFIDF / Word Embeddings\n",
        "from sklearn.feature_extraction.text import TfidfVectorizer\n",
        "\n",
        "# Similarity\n",
        "from sklearn.metrics.pairwise import cosine_similarity\n",
        "\n",
        "# Deployment\n",
        "import pickle"
      ],
      "execution_count": 1,
      "outputs": []
    },
    {
      "cell_type": "markdown",
      "metadata": {
        "id": "IKzA0Hujczr4",
        "colab_type": "text"
      },
      "source": [
        "## Import strain data from github"
      ]
    },
    {
      "cell_type": "code",
      "metadata": {
        "id": "TuCVmviGdzNa",
        "colab_type": "code",
        "colab": {}
      },
      "source": [
        "# Import csv obtained from Kaggle\n",
        "df = pd.read_csv(\"https://raw.githubusercontent.com/jae-finger/med_cabinet_4/master/cannabis.csv\")\n",
        "\n",
        "# Drop nulls\n",
        "df = df.dropna()\n",
        "\n",
        "# Get feature names\n",
        "df_features = ['Strain', 'Type', 'Effects', \"Flavor\", 'Description']\n",
        "\n",
        "# Lowercase and remove symbols from data\n",
        "for each in df_features:\n",
        "  df[each] = df[each].apply(lambda x: x.lower())\n",
        "  df[each] = df[each].apply(lambda x: re.sub('[^a-zA-Z 0-9]', ' ', x))\n",
        "\n",
        "# Create the combined text\n",
        "df['combined_text'] = df['Type'] + ' ' + df['Effects'] + ' ' + df['Flavor'] + df['Description'] + ' '\n",
        "\n",
        "# # Summarize\n",
        "# print(df.shape)\n",
        "# print(list(df.columns))\n",
        "# df.head()"
      ],
      "execution_count": 2,
      "outputs": []
    },
    {
      "cell_type": "markdown",
      "metadata": {
        "id": "FeZIwOMJTP5_",
        "colab_type": "text"
      },
      "source": [
        "# Mock Model Usage"
      ]
    },
    {
      "cell_type": "markdown",
      "metadata": {
        "id": "Mgi0Up6uTUDN",
        "colab_type": "text"
      },
      "source": [
        "Accept a JSON that is formatted the correct way."
      ]
    },
    {
      "cell_type": "code",
      "metadata": {
        "id": "_IuFnLl-TAZd",
        "colab_type": "code",
        "colab": {}
      },
      "source": [
        "# Second test JSON (Unique Info) \n",
        "JSON_URL = \"https://raw.githubusercontent.com/jae-finger/med_cabinet_4/master/jons_strain.json\""
      ],
      "execution_count": 3,
      "outputs": []
    },
    {
      "cell_type": "code",
      "metadata": {
        "id": "6U1bOe1CWA6z",
        "colab_type": "code",
        "colab": {}
      },
      "source": [
        "# Create a function to load and format json\n",
        "\n",
        "def load_json(link):\n",
        "  \"\"\"\n",
        "  A function that takes in a URL pointing to a JSON formatted correctly as per the repo\n",
        "  and creates a dataframe formatted right. Next step would be to preprocess the text.\n",
        "  \"\"\"\n",
        "  with urllib.request.urlopen(link) as url:\n",
        "    input_json = json.loads(url.read().decode())\n",
        "  json_strain = pd.DataFrame.from_records(input_json, index=[0], columns=['Strain', 'Type', 'Effects', 'Flavor', 'Description'])\n",
        "  return json_strain"
      ],
      "execution_count": 4,
      "outputs": []
    },
    {
      "cell_type": "markdown",
      "metadata": {
        "id": "73fCyB8gWTs9",
        "colab_type": "text"
      },
      "source": [
        "Test load the custom strain JSON as seed_strain. Load a `JSON` from `JSON_URL` using `load_json(link)`"
      ]
    },
    {
      "cell_type": "code",
      "metadata": {
        "id": "WFMUZ4qWT-2g",
        "colab_type": "code",
        "colab": {
          "base_uri": "https://localhost:8080/",
          "height": 78
        },
        "outputId": "46da3808-c9e1-45f2-cc33-7c920891f29c"
      },
      "source": [
        "seed_strain = load_json(JSON_URL)\n",
        "seed_strain"
      ],
      "execution_count": 5,
      "outputs": [
        {
          "output_type": "execute_result",
          "data": {
            "text/html": [
              "<div>\n",
              "<style scoped>\n",
              "    .dataframe tbody tr th:only-of-type {\n",
              "        vertical-align: middle;\n",
              "    }\n",
              "\n",
              "    .dataframe tbody tr th {\n",
              "        vertical-align: top;\n",
              "    }\n",
              "\n",
              "    .dataframe thead th {\n",
              "        text-align: right;\n",
              "    }\n",
              "</style>\n",
              "<table border=\"1\" class=\"dataframe\">\n",
              "  <thead>\n",
              "    <tr style=\"text-align: right;\">\n",
              "      <th></th>\n",
              "      <th>Strain</th>\n",
              "      <th>Type</th>\n",
              "      <th>Effects</th>\n",
              "      <th>Flavor</th>\n",
              "      <th>Description</th>\n",
              "    </tr>\n",
              "  </thead>\n",
              "  <tbody>\n",
              "    <tr>\n",
              "      <th>0</th>\n",
              "      <td>User_Strain</td>\n",
              "      <td>Hybrid</td>\n",
              "      <td>Creative, Relaxed, Sleepy</td>\n",
              "      <td>Sweet, Lemon, Gas</td>\n",
              "      <td>Looking for a strain that gives pain relief wi...</td>\n",
              "    </tr>\n",
              "  </tbody>\n",
              "</table>\n",
              "</div>"
            ],
            "text/plain": [
              "        Strain  ...                                        Description\n",
              "0  User_Strain  ...  Looking for a strain that gives pain relief wi...\n",
              "\n",
              "[1 rows x 5 columns]"
            ]
          },
          "metadata": {
            "tags": []
          },
          "execution_count": 5
        }
      ]
    },
    {
      "cell_type": "markdown",
      "metadata": {
        "id": "F93MOZZ8WiT5",
        "colab_type": "text"
      },
      "source": [
        "### Preprocess Text"
      ]
    },
    {
      "cell_type": "code",
      "metadata": {
        "id": "6WmbeS9JUIFk",
        "colab_type": "code",
        "colab": {}
      },
      "source": [
        "# Create a function to preprocces the JSON loaded in the previous step\n",
        "def preprocess_strain(strain):\n",
        "  \"\"\"\n",
        "  A function that preprocesses a JSON created using load_json().\n",
        "  It also adds an extra column needed for the model.\n",
        "  Finally, it transforms the data using a pre_loaded model.\n",
        "  \"\"\"\n",
        "  # Creates temp list of feature names\n",
        "  c_f = ['Strain', 'Type', 'Effects', \"Flavor\", 'Description']\n",
        "\n",
        "  # Lowercases and removes symbols\n",
        "  for feature in c_f:\n",
        "    strain[feature] = strain[feature].apply(lambda x: x.lower())\n",
        "    strain[feature] = strain[feature].apply(lambda x: re.sub('[^a-zA-Z 0-9]', ' ', x))\n",
        "\n",
        "  # Combines text\n",
        "  strain['combined_text'] = strain['Type'] + ' ' + strain['Effects'] + ' ' + strain['Flavor'] + strain['Description'] + ' '\n",
        "  return strain"
      ],
      "execution_count": 6,
      "outputs": []
    },
    {
      "cell_type": "markdown",
      "metadata": {
        "id": "GCKMY-HFYVXx",
        "colab_type": "text"
      },
      "source": [
        "Test by preprocessing the `seed_strain` created before to create `processed strain` using `preprocess_strain(strain)`."
      ]
    },
    {
      "cell_type": "code",
      "metadata": {
        "id": "rxHa7GKvYYM4",
        "colab_type": "code",
        "colab": {
          "base_uri": "https://localhost:8080/",
          "height": 78
        },
        "outputId": "43b438ea-6a1d-4118-89ae-29b41b5f7482"
      },
      "source": [
        "processed_strain = preprocess_strain(seed_strain)\n",
        "processed_strain"
      ],
      "execution_count": 7,
      "outputs": [
        {
          "output_type": "execute_result",
          "data": {
            "text/html": [
              "<div>\n",
              "<style scoped>\n",
              "    .dataframe tbody tr th:only-of-type {\n",
              "        vertical-align: middle;\n",
              "    }\n",
              "\n",
              "    .dataframe tbody tr th {\n",
              "        vertical-align: top;\n",
              "    }\n",
              "\n",
              "    .dataframe thead th {\n",
              "        text-align: right;\n",
              "    }\n",
              "</style>\n",
              "<table border=\"1\" class=\"dataframe\">\n",
              "  <thead>\n",
              "    <tr style=\"text-align: right;\">\n",
              "      <th></th>\n",
              "      <th>Strain</th>\n",
              "      <th>Type</th>\n",
              "      <th>Effects</th>\n",
              "      <th>Flavor</th>\n",
              "      <th>Description</th>\n",
              "      <th>combined_text</th>\n",
              "    </tr>\n",
              "  </thead>\n",
              "  <tbody>\n",
              "    <tr>\n",
              "      <th>0</th>\n",
              "      <td>user strain</td>\n",
              "      <td>hybrid</td>\n",
              "      <td>creative  relaxed  sleepy</td>\n",
              "      <td>sweet  lemon  gas</td>\n",
              "      <td>looking for a strain that gives pain relief wi...</td>\n",
              "      <td>hybrid creative  relaxed  sleepy sweet  lemon ...</td>\n",
              "    </tr>\n",
              "  </tbody>\n",
              "</table>\n",
              "</div>"
            ],
            "text/plain": [
              "        Strain  ...                                      combined_text\n",
              "0  user strain  ...  hybrid creative  relaxed  sleepy sweet  lemon ...\n",
              "\n",
              "[1 rows x 6 columns]"
            ]
          },
          "metadata": {
            "tags": []
          },
          "execution_count": 7
        }
      ]
    },
    {
      "cell_type": "markdown",
      "metadata": {
        "id": "2Q6mibm2Z8cG",
        "colab_type": "text"
      },
      "source": [
        "#### Find Recommendations (Transform, Cosine Similarity)"
      ]
    },
    {
      "cell_type": "markdown",
      "metadata": {
        "id": "RTebrp0gZy67",
        "colab_type": "text"
      },
      "source": [
        "Calculate the top 5 most similar strains to our `processed_strain` by using `find_rec_strains(p_strain)`."
      ]
    },
    {
      "cell_type": "code",
      "metadata": {
        "id": "aLp3KoKEYf3q",
        "colab_type": "code",
        "colab": {}
      },
      "source": [
        "# Create a function that identifies the 5 most similar strains\n",
        "def find_rec_strains(p_strain):\n",
        "  \"\"\"\n",
        "  This function takes in a preprocessed JSON from preprocess_strain(strain).\n",
        "  It creates a JSON containing info on the 5 most similar strains\n",
        "  \"\"\"\n",
        "  # load the model from disk\n",
        "  filename = 'pickled_model.pkl'\n",
        "  pickled_model = pickle.load(open('/content/pickled_model.pkl', 'rb'))\n",
        "  strain_list = pd.read_pickle(\"/content/pickled_df.pkl\")\n",
        "  pickled_dtm = pickle.load(open(\"/content/pickled_dtm.pkl\", 'rb'))\n",
        "\n",
        "  # Transforms preprocessed strain and appends\n",
        "  input_dtm = pd.DataFrame((pickled_model.transform(p_strain['combined_text'])).todense(), columns=pickled_model.get_feature_names())\n",
        "  dtm_1 = (pickled_dtm.append(input_dtm)).reset_index(drop=True)\n",
        "\n",
        "  # Calculate similarity of all strains\n",
        "  cosine_df = pd.DataFrame(cosine_similarity(dtm_1))\n",
        "\n",
        "  #Grab top 5 results that are most similar to user inputted strain\n",
        "  cosine_results = (pd.DataFrame(cosine_df[cosine_df[0] < 1][len(cosine_df)-1].sort_values(ascending=False)[1:6])).reset_index()\n",
        "  cos_results = cosine_results['index'].values.tolist()\n",
        "  recs = []\n",
        "  for each in cos_results:\n",
        "    temp = strain_list.iloc[each]\n",
        "    recs.append(temp)\n",
        "  recs = (pd.DataFrame(recs)).to_json(\"predicted_recs.json\", orient='records')\n",
        "  print('Created predicted_recs.json')"
      ],
      "execution_count": 8,
      "outputs": []
    },
    {
      "cell_type": "markdown",
      "metadata": {
        "id": "NVd6rGMOcbu_",
        "colab_type": "text"
      },
      "source": [
        "Test the recommender function opening the JSON it created."
      ]
    },
    {
      "cell_type": "code",
      "metadata": {
        "id": "3f7nl4VgYX_D",
        "colab_type": "code",
        "colab": {
          "base_uri": "https://localhost:8080/",
          "height": 35
        },
        "outputId": "5398b341-6248-4f07-d046-c5f45722573c"
      },
      "source": [
        "find_rec_strains(processed_strain)"
      ],
      "execution_count": 9,
      "outputs": [
        {
          "output_type": "stream",
          "text": [
            "Created predicted_recs.json\n"
          ],
          "name": "stdout"
        }
      ]
    },
    {
      "cell_type": "code",
      "metadata": {
        "id": "YpcCdgV1Xe6Q",
        "colab_type": "code",
        "colab": {
          "base_uri": "https://localhost:8080/",
          "height": 198
        },
        "outputId": "abf9f09d-0cd8-4171-c795-60cc693f3952"
      },
      "source": [
        "# This section loads the json and displays it\n",
        "with open('/content/predicted_recs.json') as f:\n",
        "  final_test = json.load(f)\n",
        "final_test = pd.DataFrame.from_records(final_test)\n",
        "final_test"
      ],
      "execution_count": 10,
      "outputs": [
        {
          "output_type": "execute_result",
          "data": {
            "text/html": [
              "<div>\n",
              "<style scoped>\n",
              "    .dataframe tbody tr th:only-of-type {\n",
              "        vertical-align: middle;\n",
              "    }\n",
              "\n",
              "    .dataframe tbody tr th {\n",
              "        vertical-align: top;\n",
              "    }\n",
              "\n",
              "    .dataframe thead th {\n",
              "        text-align: right;\n",
              "    }\n",
              "</style>\n",
              "<table border=\"1\" class=\"dataframe\">\n",
              "  <thead>\n",
              "    <tr style=\"text-align: right;\">\n",
              "      <th></th>\n",
              "      <th>Strain</th>\n",
              "      <th>Type</th>\n",
              "      <th>Rating</th>\n",
              "      <th>Effects</th>\n",
              "      <th>Flavor</th>\n",
              "      <th>Description</th>\n",
              "    </tr>\n",
              "  </thead>\n",
              "  <tbody>\n",
              "    <tr>\n",
              "      <th>0</th>\n",
              "      <td>Richie-Rich</td>\n",
              "      <td>hybrid</td>\n",
              "      <td>4.3</td>\n",
              "      <td>Happy,Euphoric,Relaxed,Hungry,Creative</td>\n",
              "      <td>Sweet,Lemon,Tropical</td>\n",
              "      <td>Richie Rich cannabis is a Northern Lights #5 c...</td>\n",
              "    </tr>\n",
              "    <tr>\n",
              "      <th>1</th>\n",
              "      <td>Charlie-Sheen</td>\n",
              "      <td>hybrid</td>\n",
              "      <td>4.6</td>\n",
              "      <td>Happy,Euphoric,Relaxed,Sleepy,Focused</td>\n",
              "      <td>Pine,Sweet,Lemon</td>\n",
              "      <td>Charlie Sheen is an indica-dominant hybrid, pa...</td>\n",
              "    </tr>\n",
              "    <tr>\n",
              "      <th>2</th>\n",
              "      <td>A-Train</td>\n",
              "      <td>hybrid</td>\n",
              "      <td>4.1</td>\n",
              "      <td>Creative,Euphoric,Relaxed,Happy,Hungry</td>\n",
              "      <td>Earthy,Woody,Citrus</td>\n",
              "      <td>A-Train is a hybrid between Mazar I Sharif and...</td>\n",
              "    </tr>\n",
              "    <tr>\n",
              "      <th>3</th>\n",
              "      <td>Skunky-Diesel</td>\n",
              "      <td>hybrid</td>\n",
              "      <td>4.2</td>\n",
              "      <td>Happy,Uplifted,Energetic,Relaxed,Sleepy</td>\n",
              "      <td>Skunk,Diesel,Earthy</td>\n",
              "      <td>Skunky Diesel is a nice indica-dominant strain...</td>\n",
              "    </tr>\n",
              "    <tr>\n",
              "      <th>4</th>\n",
              "      <td>White-Knight</td>\n",
              "      <td>hybrid</td>\n",
              "      <td>4.6</td>\n",
              "      <td>Creative,Relaxed,Happy,Sleepy,Energetic</td>\n",
              "      <td>Earthy,Pungent,Sweet</td>\n",
              "      <td>White Knight is a “Chong Certified” hybrid str...</td>\n",
              "    </tr>\n",
              "  </tbody>\n",
              "</table>\n",
              "</div>"
            ],
            "text/plain": [
              "          Strain  ...                                        Description\n",
              "0    Richie-Rich  ...  Richie Rich cannabis is a Northern Lights #5 c...\n",
              "1  Charlie-Sheen  ...  Charlie Sheen is an indica-dominant hybrid, pa...\n",
              "2        A-Train  ...  A-Train is a hybrid between Mazar I Sharif and...\n",
              "3  Skunky-Diesel  ...  Skunky Diesel is a nice indica-dominant strain...\n",
              "4   White-Knight  ...  White Knight is a “Chong Certified” hybrid str...\n",
              "\n",
              "[5 rows x 6 columns]"
            ]
          },
          "metadata": {
            "tags": []
          },
          "execution_count": 10
        }
      ]
    }
  ]
}